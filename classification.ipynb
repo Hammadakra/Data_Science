{
 "cells": [
  {
   "cell_type": "code",
   "execution_count": 49,
   "metadata": {},
   "outputs": [],
   "source": [
    "import pandas as pd"
   ]
  },
  {
   "cell_type": "code",
   "execution_count": 53,
   "metadata": {},
   "outputs": [],
   "source": [
    "df=pd.read_csv('daily_weather.csv')"
   ]
  },
  {
   "cell_type": "code",
   "execution_count": null,
   "metadata": {},
   "outputs": [],
   "source": [
    "Entropy All"
   ]
  },
  {
   "cell_type": "code",
   "execution_count": 89,
   "metadata": {},
   "outputs": [
    {
     "name": "stdout",
     "output_type": "stream",
     "text": [
      "805 290\n"
     ]
    }
   ],
   "source": [
    "CountTrue=0\n",
    "CountFalse=0\n",
    "for i in range(len(df.relative_humidity_3pm)):\n",
    "    if df.relative_humidity_3pm[i] > 40 and df.relative_humidity_9am[i] > 40:\n",
    "        CountTrue+=1\n",
    "    else:\n",
    "        CountFalse+=1\n",
    "print(CountFalse,CountTrue)"
   ]
  },
  {
   "cell_type": "code",
   "execution_count": 91,
   "metadata": {},
   "outputs": [],
   "source": [
    "Ptrue=CountTrue/len(df.relative_humidity_3pm)\n",
    "Pfasle=CountFalse/len(df.relative_humidity_3pm)"
   ]
  },
  {
   "cell_type": "code",
   "execution_count": 94,
   "metadata": {},
   "outputs": [
    {
     "data": {
      "text/plain": [
       "0.2648401826484018"
      ]
     },
     "execution_count": 94,
     "metadata": {},
     "output_type": "execute_result"
    }
   ],
   "source": [
    "Ptrue\n",
    "Pfasle"
   ]
  },
  {
   "cell_type": "code",
   "execution_count": 100,
   "metadata": {},
   "outputs": [
    {
     "data": {
      "text/plain": [
       "0.8339627897662305"
      ]
     },
     "execution_count": 100,
     "metadata": {},
     "output_type": "execute_result"
    }
   ],
   "source": [
    "import math\n",
    "EntParent=-(Ptrue*math.log2(Ptrue)+Pfasle*math.log2(Pfasle))\n",
    "EntParent"
   ]
  },
  {
   "cell_type": "markdown",
   "metadata": {},
   "source": [
    "# Entropy True"
   ]
  },
  {
   "cell_type": "code",
   "execution_count": 123,
   "metadata": {},
   "outputs": [],
   "source": [
    "EntFor3pmT=sum(df.relative_humidity_3pm > 40)\n",
    "\n",
    "EntFor3pmF=sum(df.relative_humidity_3pm > 40)-len(df.relative_humidity_3pm)\n",
    "\n",
    "TrueEnt=-((EntFor3pmT)/EntFor3pmT+EntFor3pmF*math.log2(EntFor3pmT)/EntFor3pmT+EntFor3pmF+(EntFor3pmF)/(EntFor3pmT+EntFor3pmF)*math.log2(EntFor3pmF)/EntFor3pmT+EntFor3pmF)\n"
   ]
  },
  {
   "cell_type": "code",
   "execution_count": 126,
   "metadata": {},
   "outputs": [
    {
     "data": {
      "text/plain": [
       "0.3839627897662305"
      ]
     },
     "execution_count": 126,
     "metadata": {},
     "output_type": "execute_result"
    }
   ],
   "source": [
    "# For High Humadidy Value is\n",
    "EntParent-TrueEnt\n"
   ]
  },
  {
   "cell_type": "code",
   "execution_count": 132,
   "metadata": {},
   "outputs": [],
   "source": [
    "EntFor9amT=sum(df.relative_humidity_9am > 40)\n",
    "\n",
    "EntFor9amT=sum(df.relative_humidity_9am > 40)-len(df.relative_humidity_3pm)\n",
    "\n",
    "TrueEnt=-((EntFor9amT)/EntFor9amT+EntFor9amF*math.log2(EntFor9amT)/EntFor3pmT+EntFor3pmF+(EntFor3pmF)/(EntFor3pmT+EntFor3pmF)*math.log2(EntFor3pmF)/EntFor3pmT+EntFor3pmF)\n"
   ]
  },
  {
   "cell_type": "code",
   "execution_count": 135,
   "metadata": {},
   "outputs": [
    {
     "name": "stdout",
     "output_type": "stream",
     "text": [
      "Class Lwo\n"
     ]
    }
   ],
   "source": [
    "if EntParent-TrueEnt > EntParent-TrueEnt:\n",
    "    print(\"Class High\")\n",
    "else:\n",
    "    print('Class Lwo')"
   ]
  },
  {
   "cell_type": "code",
   "execution_count": null,
   "metadata": {},
   "outputs": [],
   "source": []
  }
 ],
 "metadata": {
  "kernelspec": {
   "display_name": "Python 3",
   "language": "python",
   "name": "python3"
  },
  "language_info": {
   "codemirror_mode": {
    "name": "ipython",
    "version": 3
   },
   "file_extension": ".py",
   "mimetype": "text/x-python",
   "name": "python",
   "nbconvert_exporter": "python",
   "pygments_lexer": "ipython3",
   "version": "3.7.3"
  }
 },
 "nbformat": 4,
 "nbformat_minor": 2
}
